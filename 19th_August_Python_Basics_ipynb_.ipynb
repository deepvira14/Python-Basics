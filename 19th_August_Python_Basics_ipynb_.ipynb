{
  "nbformat": 4,
  "nbformat_minor": 0,
  "metadata": {
    "colab": {
      "provenance": []
    },
    "kernelspec": {
      "name": "python3",
      "display_name": "Python 3"
    },
    "language_info": {
      "name": "python"
    }
  },
  "cells": [
    {
      "cell_type": "markdown",
      "source": [
        "\n",
        "\n",
        "#TOPIC: Python Basics Variable"
      ],
      "metadata": {
        "id": "JObTK0C3o8uI"
      }
    },
    {
      "cell_type": "code",
      "execution_count": 23,
      "metadata": {
        "colab": {
          "base_uri": "https://localhost:8080/",
          "height": 35
        },
        "id": "f2_M3ejKR-C2",
        "outputId": "8d595e1a-e69f-4cf1-a2cc-88e2557804a7"
      },
      "outputs": [
        {
          "output_type": "execute_result",
          "data": {
            "text/plain": [
              "'Declare two variables, `x` and `y`, and assign them integer values. Swap the values of these variables without using any temporary variable.'"
            ],
            "application/vnd.google.colaboratory.intrinsic+json": {
              "type": "string"
            }
          },
          "metadata": {},
          "execution_count": 23
        }
      ],
      "source": [
        "# Question 1)\n",
        "\n",
        "'''Declare two variables, `x` and `y`, and assign them integer values. Swap the values of these variables without using any temporary variable.'''"
      ]
    },
    {
      "cell_type": "code",
      "source": [
        "#Initial value of x is 10, y is 20. Step 1 - add both numbers, then subtract it from the current value of the variable to get the swapped values.\n",
        "x,y = 10, 20\n",
        "x = x + y\n",
        "y = x - y\n",
        "x = x - y\n",
        "\n",
        "print(x)\n",
        "print(y)"
      ],
      "metadata": {
        "colab": {
          "base_uri": "https://localhost:8080/"
        },
        "id": "AiEBvqamST8B",
        "outputId": "0f8fb52a-2be1-4998-acb2-40ee2e226b32"
      },
      "execution_count": 24,
      "outputs": [
        {
          "output_type": "stream",
          "name": "stdout",
          "text": [
            "20\n",
            "10\n"
          ]
        }
      ]
    },
    {
      "cell_type": "code",
      "source": [
        "# Question 2)\n",
        "''' Create a program that calculates the area of a rectangle. Take the length and\n",
        "width as inputs from the user and store them in variables. Calculate and\n",
        "display the area.'''"
      ],
      "metadata": {
        "colab": {
          "base_uri": "https://localhost:8080/",
          "height": 53
        },
        "id": "yGYC3majSQ3q",
        "outputId": "c5b3bf7b-f8db-4606-de01-f08a9fa1c837"
      },
      "execution_count": 25,
      "outputs": [
        {
          "output_type": "execute_result",
          "data": {
            "text/plain": [
              "' Create a program that calculates the area of a rectangle. Take the length and\\nwidth as inputs from the user and store them in variables. Calculate and\\ndisplay the area.'"
            ],
            "application/vnd.google.colaboratory.intrinsic+json": {
              "type": "string"
            }
          },
          "metadata": {},
          "execution_count": 25
        }
      ]
    },
    {
      "cell_type": "code",
      "source": [
        "#Taking inputs of length and width from user and type casting to integer as doing mathematical calulations. Then printing the area by multiplying length by width.\n",
        "length = int(input(\"Enter the length, to calculate the area of rectangle :\"))\n",
        "width = int(input(\"Enter the width, to calculate the area of rectangle :\"))\n",
        "\n",
        "print(\"Area of rectangle is\", length * width)\n",
        "\n",
        "#END OF PROGRAM"
      ],
      "metadata": {
        "colab": {
          "base_uri": "https://localhost:8080/"
        },
        "id": "8XsaVomNUP2o",
        "outputId": "370ff8bb-97c2-4027-a471-0bec815e099e"
      },
      "execution_count": 27,
      "outputs": [
        {
          "output_type": "stream",
          "name": "stdout",
          "text": [
            "Enter the length, to calculate the area of rectangle :10\n",
            "Enter the width, to calculate the area of rectangle :50\n",
            "Area of rectangle is 500\n"
          ]
        }
      ]
    },
    {
      "cell_type": "code",
      "source": [
        "# Question 3)\n",
        "''' Write a Python program that converts temperatures from Celsius to\n",
        "Fahrenheit. Take the temperature in Celsius as input, store it in a variable,\n",
        "convert it to Fahrenheit, and display the result. '''"
      ],
      "metadata": {
        "colab": {
          "base_uri": "https://localhost:8080/",
          "height": 53
        },
        "id": "dje9ZHL7VanT",
        "outputId": "14bf4c90-c2ba-4e5c-b21b-f897d926425b"
      },
      "execution_count": 28,
      "outputs": [
        {
          "output_type": "execute_result",
          "data": {
            "text/plain": [
              "' Write a Python program that converts temperatures from Celsius to\\nFahrenheit. Take the temperature in Celsius as input, store it in a variable,\\nconvert it to Fahrenheit, and display the result. '"
            ],
            "application/vnd.google.colaboratory.intrinsic+json": {
              "type": "string"
            }
          },
          "metadata": {},
          "execution_count": 28
        }
      ]
    },
    {
      "cell_type": "code",
      "source": [
        "#Taking celsius temperature from user and type casting it tp float. Then printing the results by converting Celsius to Fahrenheit by using formula.\n",
        "celsiusTemp = float(input(\"Enter the temperature in Celsius degree.\"))\n",
        "\n",
        "\n",
        "print(\"The Fahrenheit temperature of given Celsius is :\", (celsiusTemp * 9/5) + 32)"
      ],
      "metadata": {
        "colab": {
          "base_uri": "https://localhost:8080/"
        },
        "id": "fNp_o1qmXb3p",
        "outputId": "c7dc56eb-2bab-4f62-f53e-20eed64f6e0a"
      },
      "execution_count": 29,
      "outputs": [
        {
          "output_type": "stream",
          "name": "stdout",
          "text": [
            "Enter the temperature in Celsius degree.55\n",
            "The Fahrenheit temperature of given Celsius is : 131.0\n"
          ]
        }
      ]
    },
    {
      "cell_type": "markdown",
      "source": [
        "#TOPIC: String Based Questions"
      ],
      "metadata": {
        "id": "ssiQAascXrGX"
      }
    },
    {
      "cell_type": "code",
      "source": [
        "# QUESTION 1)\n",
        "''' Write a Python program that takes a string as input and prints the length of\n",
        "the string. '''"
      ],
      "metadata": {
        "colab": {
          "base_uri": "https://localhost:8080/",
          "height": 35
        },
        "id": "Ka1bqfdqXwkG",
        "outputId": "3fa51ccf-72c6-4456-c72d-47ae9fff9e76"
      },
      "execution_count": 30,
      "outputs": [
        {
          "output_type": "execute_result",
          "data": {
            "text/plain": [
              "' Write a Python program that takes a string as input and prints the length of\\nthe string. '"
            ],
            "application/vnd.google.colaboratory.intrinsic+json": {
              "type": "string"
            }
          },
          "metadata": {},
          "execution_count": 30
        }
      ]
    },
    {
      "cell_type": "code",
      "source": [
        "# Taking input from user as a string which is bydefault in python. Using inbuilt keyword 'len' to calculate the lenght of the string.\n",
        "inputString = input(\"Enter a string, to calculate length: \")\n",
        "stringLength = len(inputString)\n",
        "\n",
        "print(f\"The length of the given string is: {stringLength}\")"
      ],
      "metadata": {
        "colab": {
          "base_uri": "https://localhost:8080/"
        },
        "id": "kSr3YOHYX7s4",
        "outputId": "55daac0a-49ab-4058-f319-23c440bb1143"
      },
      "execution_count": 32,
      "outputs": [
        {
          "output_type": "stream",
          "name": "stdout",
          "text": [
            "Enter a string, to calculate length: deepvira\n",
            "The length of the given string is: 8\n"
          ]
        }
      ]
    },
    {
      "cell_type": "code",
      "source": [
        "# QUESTION 2\n",
        "''' Create a program that takes a sentence from the user and counts the number\n",
        "of vowels (a, e, i, o, u) in the string.'''"
      ],
      "metadata": {
        "colab": {
          "base_uri": "https://localhost:8080/",
          "height": 35
        },
        "id": "yc5mWPNgYmfX",
        "outputId": "a2fefcd1-0f03-4e3b-b1c1-832d175b0797"
      },
      "execution_count": 33,
      "outputs": [
        {
          "output_type": "execute_result",
          "data": {
            "text/plain": [
              "' Create a program that takes a sentence from the user and counts the number\\nof vowels (a, e, i, o, u) in the string.'"
            ],
            "application/vnd.google.colaboratory.intrinsic+json": {
              "type": "string"
            }
          },
          "metadata": {},
          "execution_count": 33
        }
      ]
    },
    {
      "cell_type": "code",
      "source": [
        "inputString = input(\"Enter a string,  to count the vowels: \")\n",
        "\n",
        "vowelsCount = 0\n",
        "vowelsPresent = \"aeiouAEIOU\"\n",
        "\n",
        "for char in inputString:\n",
        "    if char in vowelsPresent:\n",
        "        vowelsCount += 1\n",
        "print(vowelsCount)"
      ],
      "metadata": {
        "colab": {
          "base_uri": "https://localhost:8080/"
        },
        "id": "Fv-XGJ5fZEMY",
        "outputId": "48e0f0af-f4c2-45ef-aa66-d10d993b6298"
      },
      "execution_count": 34,
      "outputs": [
        {
          "output_type": "stream",
          "name": "stdout",
          "text": [
            "Enter a string,  to count the vowels: apple\n",
            "2\n"
          ]
        }
      ]
    },
    {
      "cell_type": "code",
      "source": [
        "# Question 3\n",
        "''' Given a string, reverse the order of characters using string slicing and print\n",
        "the reversed string.'''"
      ],
      "metadata": {
        "id": "oS_R82RrkUes"
      },
      "execution_count": 15,
      "outputs": []
    },
    {
      "cell_type": "code",
      "source": [
        "#Taking user input as a string\n",
        "inputString = input(\"Enter a string, to get reverse string: \")\n",
        "\n",
        "#Printing the reverse by using negative indexing\n",
        "print(f\"The reversed string is:\" , inputString[::-1])"
      ],
      "metadata": {
        "colab": {
          "base_uri": "https://localhost:8080/"
        },
        "id": "brwSBa4bkXpq",
        "outputId": "83f9af3b-f80f-492c-8bab-e140a9e0576d"
      },
      "execution_count": 35,
      "outputs": [
        {
          "output_type": "stream",
          "name": "stdout",
          "text": [
            "Enter a string, to get reverse string: superman\n",
            "The reversed string is: namrepus\n"
          ]
        }
      ]
    },
    {
      "cell_type": "code",
      "source": [
        "# Question 4\n",
        "''' Write a program that takes a string as input and checks if it is a palindrome\n",
        "(reads the same forwards and backwards). '''"
      ],
      "metadata": {
        "colab": {
          "base_uri": "https://localhost:8080/",
          "height": 35
        },
        "id": "sffdZOu1lDWp",
        "outputId": "e09bfd2f-d9cc-40dc-9911-0ad4da784e79"
      },
      "execution_count": 36,
      "outputs": [
        {
          "output_type": "execute_result",
          "data": {
            "text/plain": [
              "' Write a program that takes a string as input and checks if it is a palindrome\\n(reads the same forwards and backwards). '"
            ],
            "application/vnd.google.colaboratory.intrinsic+json": {
              "type": "string"
            }
          },
          "metadata": {},
          "execution_count": 36
        }
      ]
    },
    {
      "cell_type": "code",
      "source": [
        "#Taking user input as a string\n",
        "userInput = input(\"Enter a string, to check for palindrome: \")\n",
        "\n",
        "#Checking by using negative indexing wether rever of string is same as original string(palindrome)\n",
        "if (userInput == userInput[::-1]) :\n",
        "  print(\"Palindrome\")\n",
        "else:\n",
        "  print(\"Not a Palindrome\")\n",
        "\n"
      ],
      "metadata": {
        "colab": {
          "base_uri": "https://localhost:8080/"
        },
        "id": "tNKMIyCflM7o",
        "outputId": "8eb9aeac-8283-4390-ba37-462ca637dfc6"
      },
      "execution_count": 37,
      "outputs": [
        {
          "output_type": "stream",
          "name": "stdout",
          "text": [
            "Enter a string, to check for palindrome: level\n",
            "Palindrome\n"
          ]
        }
      ]
    },
    {
      "cell_type": "code",
      "source": [
        "# Question 5\n",
        "''' Create a program that takes a string as input and removes all the spaces from\n",
        "it. Print the modified string without spaces.'''"
      ],
      "metadata": {
        "colab": {
          "base_uri": "https://localhost:8080/",
          "height": 35
        },
        "id": "pszeNE_yl69o",
        "outputId": "6f937bc0-3224-4c60-e8e4-69beaecbec1c"
      },
      "execution_count": 38,
      "outputs": [
        {
          "output_type": "execute_result",
          "data": {
            "text/plain": [
              "' Create a program that takes a string as input and removes all the spaces from\\nit. Print the modified string without spaces.'"
            ],
            "application/vnd.google.colaboratory.intrinsic+json": {
              "type": "string"
            }
          },
          "metadata": {},
          "execution_count": 38
        }
      ]
    },
    {
      "cell_type": "code",
      "source": [
        "#Taking user input as a string\n",
        "userInput = input(\"Enter a string: \")\n",
        "\n",
        "#Replacing blank spaces with no space\n",
        "result = userInput.replace(\" \", \"\")\n",
        "\n",
        "#printing the resulted string\n",
        "print(\"Resulted string without spaces:\", result)"
      ],
      "metadata": {
        "colab": {
          "base_uri": "https://localhost:8080/"
        },
        "id": "iON2BLuGn3cC",
        "outputId": "b7ac96ed-e356-4c99-98c3-757a2f49d358"
      },
      "execution_count": 39,
      "outputs": [
        {
          "output_type": "stream",
          "name": "stdout",
          "text": [
            "Enter a string: hey how are you\n",
            "Resulted string without spaces: heyhowareyou\n"
          ]
        }
      ]
    }
  ]
}